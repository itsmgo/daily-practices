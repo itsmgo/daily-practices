{
 "cells": [
  {
   "cell_type": "markdown",
   "metadata": {},
   "source": [
    "<br>\n",
    "<span style=\"font-family:Cursive;font-variant:small-caps;color:000000;\"> <em>Dia 2</em>:</span>\n",
    "\n",
    "\n",
    "# Generador de paraules a partir del teu nom\n",
    "\n",
    "### Donades unes lletres organitzar-les fins a trobar la paraula més llarga possible\n",
    "\n",
    "<br>\n",
    "\n",
    "<b> Descripció: </b>Aquest programa organitza les lletres del teu nom per tal de trobar la paraula més llarga que pot crear.\n",
    "\n",
    "<b> Input: </b>Qualsevol text. <br>\n",
    "<b> Output: </b>Paraula més llarga acceptada al diccionari creada a partir de les lletres de l'input.\n",
    "\n",
    "<b> Problemes: </b>Paraules amb més d'onze lletres col·lapsa el programa. El temps de compil·lació augmenta exponencialment.\n",
    "\n",
    "<br>"
   ]
  },
  {
   "cell_type": "code",
   "execution_count": 1,
   "metadata": {
    "collapsed": false
   },
   "outputs": [],
   "source": [
    "import numpy as np\n",
    "import enchant\n",
    "import itertools as it\n",
    "import ipywidgets as wdg"
   ]
  },
  {
   "cell_type": "code",
   "execution_count": 2,
   "metadata": {
    "collapsed": true
   },
   "outputs": [],
   "source": [
    "nom = \"marti\"\n",
    "idioma = \"catala\"\n",
    "\n",
    "tN = wdg.Text(description = \"Nom: \", value = nom)\n",
    "sI = wdg.Dropdown(options = ['catala', 'english'], value='catala', description='Idioma:')"
   ]
  },
  {
   "cell_type": "code",
   "execution_count": 3,
   "metadata": {
    "collapsed": false
   },
   "outputs": [],
   "source": [
    "def funcio(nom, idioma):\n",
    "          \n",
    "    if idioma == \"catala\":\n",
    "        diccionari = enchant.Dict(\"ca_ES\")\n",
    "    else:\n",
    "        diccionari = enchant.Dict(\"en_EN\")\n",
    "\n",
    "    paraules = nom.split(\" \")\n",
    "    lletres = []\n",
    "    permutacions = []\n",
    "    solucio = 0\n",
    "\n",
    "    for i in range(len(paraules)):\n",
    "        for j in range(len(paraules[i])):\n",
    "            lletres.append(paraules[i][j])\n",
    "\n",
    "    if len(lletres) > 9:\n",
    "        lim = 9\n",
    "    else:\n",
    "        lim = len(lletres)\n",
    "        \n",
    "    falses = 0      \n",
    "    \n",
    "    for k in range(lim):\n",
    "        permutacions = list(it.permutations(lletres, (lim-k)))\n",
    "        lp = len(permutacions)\n",
    "        \n",
    "        for i in range(lp):\n",
    "            par = \"\".join(permutacions[i])\n",
    "            \n",
    "            if diccionari.check(par) == True:\n",
    "                solucio = par\n",
    "                break\n",
    "            else:\n",
    "                falses = falses+1\n",
    "\n",
    "        if solucio != 0:\n",
    "            break\n",
    "\n",
    "    return str(solucio)"
   ]
  },
  {
   "cell_type": "code",
   "execution_count": 4,
   "metadata": {
    "collapsed": false
   },
   "outputs": [
    {
     "data": {
      "text/plain": [
       "'migdia'"
      ]
     },
     "metadata": {},
     "output_type": "display_data"
    }
   ],
   "source": [
    "wdg.interact(funcio, nom = tN, idioma = sI)"
   ]
  }
 ],
 "metadata": {
  "kernelspec": {
   "display_name": "Python 2",
   "language": "python",
   "name": "python2"
  },
  "language_info": {
   "codemirror_mode": {
    "name": "ipython",
    "version": 2
   },
   "file_extension": ".py",
   "mimetype": "text/x-python",
   "name": "python",
   "nbconvert_exporter": "python",
   "pygments_lexer": "ipython2",
   "version": "2.7.6"
  }
 },
 "nbformat": 4,
 "nbformat_minor": 0
}
