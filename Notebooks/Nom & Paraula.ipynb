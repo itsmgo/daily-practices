{
 "cells": [
  {
   "cell_type": "markdown",
   "metadata": {},
   "source": [
    "<br>\n",
    "<span style=\"font-family:Cursive;font-variant:small-caps;color:000000;\"> <em>Dia 2</em>:</span>\n",
    "\n",
    "\n",
    "# Generador de paraules a partir del teu nom\n",
    "\n",
    "### Donades unes lletres organitzar-les fins a trobar la paraula més llarga possible\n",
    "\n",
    "<br>\n",
    "\n",
    "<b> Descripció: </b>Aquest programa organitza les lletres del teu nom per tal de trobar la paraula més llarga que pot crear.\n",
    "\n",
    "<b> Input: </b>Qualsevol text. <br>\n",
    "<b> Output: </b>Paraula més llarga acceptada al diccionari creada a partir de les lletres de l'input.\n",
    "\n",
    "<b> Problemes: </b>Paraules amb més d'onze lletres col·lapsa el programa. El temps de compil·lació augmenta exponencialment.\n",
    "\n",
    "<br>\n",
    "<span style=\"font-family:Cursive;font-variant:small-caps;color:000000;\"> Anar a [Dia 1](Oscil·lacions.ipynb) </span>\n",
    "\n",
    "<br>\n",
    "<span style=\"font-family:Cursive;font-variant:small-caps;color:000000;\"> Anar a [Dia 3](Fractal%20triangular.ipynb) </span>\n",
    "\n",
    "<br>"
   ]
  },
  {
   "cell_type": "code",
   "execution_count": 2,
   "metadata": {
    "collapsed": false
   },
   "outputs": [],
   "source": [
    "import numpy as np\n",
    "import enchant\n",
    "import itertools as it\n",
    "import ipywidgets as wdg"
   ]
  },
  {
   "cell_type": "code",
   "execution_count": 3,
   "metadata": {
    "collapsed": false
   },
   "outputs": [],
   "source": [
    "nom = \"marti\"\n",
    "idioma = \"catala\"\n",
    "llargada = 15\n",
    "\n",
    "tN = wdg.Text(description = \"Nom: \", value = nom)\n",
    "sI = wdg.Dropdown(options = ['catala', 'english'], value='catala', description='Idioma:')\n",
    "sN = wdg.IntSlider(min = 0,max = llargada, value=0, description=\"Paraula: \")"
   ]
  },
  {
   "cell_type": "code",
   "execution_count": 4,
   "metadata": {
    "collapsed": false
   },
   "outputs": [],
   "source": [
    "def funcio(nom, idioma, numero):\n",
    "          \n",
    "    if idioma == \"catala\":\n",
    "        diccionari = enchant.Dict(\"ca_ES\")\n",
    "    else:\n",
    "        diccionari = enchant.Dict(\"en_EN\")\n",
    "\n",
    "    paraules = nom.split(\" \")\n",
    "    lletres = []\n",
    "    permutacions = []\n",
    "    solucio = []\n",
    "\n",
    "    for i in range(len(paraules)):\n",
    "        for j in range(len(paraules[i])):\n",
    "            lletres.append(paraules[i][j])\n",
    "\n",
    "    if len(lletres) > 9:\n",
    "        lim = 9\n",
    "    else:\n",
    "        lim = len(lletres)\n",
    "        \n",
    "    falses = 0      \n",
    "    \n",
    "    for k in range(lim):\n",
    "        permutacions = list(it.permutations(lletres, (lim-k)))\n",
    "        lp = len(permutacions)\n",
    "        \n",
    "        for i in range(lp):\n",
    "            par = \"\".join(permutacions[i])\n",
    "            \n",
    "            if diccionari.check(par) == True:\n",
    "                solucio.append(par)\n",
    "                #break\n",
    "            else:\n",
    "                falses = falses+1\n",
    "\n",
    "        #if solucio != 0:\n",
    "         #   break\n",
    "    \n",
    "    return str(solucio[numero])"
   ]
  },
  {
   "cell_type": "code",
   "execution_count": 5,
   "metadata": {
    "collapsed": false
   },
   "outputs": [
    {
     "data": {
      "text/plain": [
       "'bitllava'"
      ]
     },
     "metadata": {},
     "output_type": "display_data"
    }
   ],
   "source": [
    "wdg.interact(funcio, nom = tN, idioma = sI, numero = sN)"
   ]
  }
 ],
 "metadata": {
  "kernelspec": {
   "display_name": "Python 2",
   "language": "python",
   "name": "python2"
  },
  "language_info": {
   "codemirror_mode": {
    "name": "ipython",
    "version": 2
   },
   "file_extension": ".py",
   "mimetype": "text/x-python",
   "name": "python",
   "nbconvert_exporter": "python",
   "pygments_lexer": "ipython2",
   "version": "2.7.6"
  },
  "widgets": {
   "state": {
    "1b1ff5f735824bc780cdf05cb8d27abd": {
     "views": []
    },
    "20c0df27a3344c22abf1ec545839b71c": {
     "views": []
    },
    "2a1a007cc0a443d4a527022370479ce4": {
     "views": []
    },
    "2d4a0346ca314693b48644dbd3a64e55": {
     "views": [
      {
       "cell": {
        "cell_type": "code",
        "execution_count": 5,
        "metadata": {
         "collapsed": false,
         "trusted": true
        },
        "outputs": [
         {
          "data": {
           "text/plain": "'bitllava'"
          },
          "metadata": {},
          "output_type": "display_data"
         }
        ],
        "source": "wdg.interact(funcio, nom = tN, idioma = sI, numero = sN)"
       },
       "cell_index": 4,
       "root": true
      }
     ]
    },
    "37cfd3db93dd40b3afdfb8c9877e3b92": {
     "views": []
    },
    "585fc5783c734e618c35c434e23b0d40": {
     "views": []
    },
    "892c6349d3504d44a33ebc7e195d2e1a": {
     "views": []
    },
    "8c4aafa1063c4178badce16b0eeec7d6": {
     "views": []
    },
    "9d4e350008d1424bbbf5e6113d7c0b68": {
     "views": []
    },
    "a8cb5f2431674bdc8291a5130fe23761": {
     "views": []
    },
    "ae983907febd4b9eba55840aa4e46c81": {
     "views": []
    },
    "af30f61760eb46eeaccfe44576625438": {
     "views": []
    },
    "bf13c2c6030d43af8055570c3427f383": {
     "views": []
    },
    "cc37bb1bc3b143e8802d0ec1f320e7d2": {
     "views": []
    },
    "f565622f52024770b147bddc3060a4e2": {
     "views": []
    },
    "ffdc306de9e440a4afcfa7ccf6866e2e": {
     "views": []
    }
   },
   "version": "1.0.0"
  }
 },
 "nbformat": 4,
 "nbformat_minor": 0
}
