{
 "cells": [
  {
   "cell_type": "markdown",
   "metadata": {},
   "source": [
    "<br>\n",
    "<span style=\"font-family:Cursive;font-variant:small-caps;color:000000;\"> <em>Dia 1</em>:</span>\n",
    "\n",
    "\n",
    "# Oscil·lacions esmorteïdes\n",
    "\n",
    "### Un estudi sobre l'amortiment d'una molla\n",
    "\n",
    "<br>\n",
    "\n",
    "<b> Descripció: </b>Aquest programa representa una oscil·lació esmorteïda en funció del temps d'una forma dinàmica.\n",
    "\n",
    "<b> Input: </b>Paràmetres del fregament, massa, constant de la molla i amplitud inicial. <br>\n",
    "<b> Output: </b>Gràfic de la posició respecte del temps de l'oscil·lació demanada.\n",
    "\n",
    "<b> Problemes: </b> Temps de actualització massa elevat per fer un <em>continuous update</em> de la funció. Si  $\\frac{b}{2mw_0}> 1$ la funció no es representa a causa del problema de l'arrel.\n",
    "\n",
    "<br>\n",
    "\n",
    "<span style=\"font-family:Cursive;font-variant:small-caps;color:000000;\"> Anar a [Dia 2](Nom%20&%20Paraula.ipynb) </span>\n",
    "\n",
    "<br>\n"
   ]
  },
  {
   "cell_type": "code",
   "execution_count": 1,
   "metadata": {
    "collapsed": true
   },
   "outputs": [],
   "source": [
    "import numpy as np\n",
    "import matplotlib.pyplot as plt\n",
    "import ipywidgets as wdg\n",
    "%matplotlib inline"
   ]
  },
  {
   "cell_type": "code",
   "execution_count": 2,
   "metadata": {
    "collapsed": true
   },
   "outputs": [],
   "source": [
    "b = 0.5\n",
    "m = 2\n",
    "Ai = 2\n",
    "k = 50\n",
    "\n",
    "dA = \"Amplitud inicial\"\n",
    "dB = 'Cnt de fregament'\n",
    "dM = 'Massa particula'\n",
    "dK = 'Cnt de la molla'\n",
    "\n",
    "sA = wdg.FloatSlider(value = Ai, min = 0.1, max = 5.0, step = 0.05, description = dA, continuous_update = False)\n",
    "sB = wdg.FloatSlider(value = b, min = 0.01, max = 5.0, step = 0.002, description = dB, continuous_update = False)\n",
    "sM = wdg.FloatSlider(value = m, min = 0.01, max = 5.0, step = 0.002, description = dM, continuous_update = False)\n",
    "sK = wdg.FloatSlider(value = k, min = 1, max = 500.0, step = 1, description = dK, continuous_update = False)"
   ]
  },
  {
   "cell_type": "code",
   "execution_count": 3,
   "metadata": {
    "collapsed": false
   },
   "outputs": [],
   "source": [
    "def funcio(b, m, Ai, k):\n",
    "    \n",
    "    wp = np.sqrt(1-(b/(2*m*(np.sqrt(k/m))))**2)*(np.sqrt(k/m))\n",
    "\n",
    "    t = np.arange(0.0, 50.0, 0.001)\n",
    "    s = Ai*np.exp(-(b/(2*m))*t) * np.cos(wp*t)  \n",
    "    e = Ai*np.exp(-(b/(2*m))*t)+0.2\n",
    "    \n",
    "    plt.plot(t, s, lw = 1.4, color = \"orange\")\n",
    "    plt.plot(t, e, lw = 1.2, color = \"lightblue\", linestyle = \"dashed\")\n",
    "    plt.plot(t, -e, lw = 1.2, color = \"lightblue\", linestyle = \"dashed\")\n",
    "    plt.axis([0, 50, -2.5, 2.5])\n",
    "    \n",
    "    return plt.show()"
   ]
  },
  {
   "cell_type": "code",
   "execution_count": 4,
   "metadata": {
    "collapsed": false,
    "scrolled": false
   },
   "outputs": [
    {
     "data": {
      "image/png": "[encoded data removed]",
      "text/plain": [
       "<matplotlib.figure.Figure at 0x7fb38a8131d0>"
      ]
     },
     "metadata": {},
     "output_type": "display_data"
    }
   ],
   "source": [
    "wdg.interact(funcio, Ai = sA, b = sB, m = sM, k = sK)"
   ]
  }
 ],
 "metadata": {
  "kernelspec": {
   "display_name": "Python 2",
   "language": "python",
   "name": "python2"
  },
  "language_info": {
   "codemirror_mode": {
    "name": "ipython",
    "version": 2
   },
   "file_extension": ".py",
   "mimetype": "text/x-python",
   "name": "python",
   "nbconvert_exporter": "python",
   "pygments_lexer": "ipython2",
   "version": "2.7.6"
  },
  "widgets": {
   "state": {
    "18422eb22cd646bca50b3c9196585753": {
     "views": []
    },
    "3fdde753d1b44d1f89b4d73449a3395a": {
     "views": []
    },
    "58350edf09334d96b8f35b618ca24bfd": {
     "views": []
    },
    "5983eac1ea4346699a7d8e4f4d5a714e": {
     "views": [
      {
       "cell": {
        "cell_type": "code",
        "execution_count": 4,
        "metadata": {
         "collapsed": false,
         "scrolled": false,
         "trusted": true
        },
        "outputs": [
         {
          "data": {
           "image/png": "iVBORw0KGgoAAAANSUhEUgAAAXMAAAD7CAYAAACYLnSTAAAABHNCSVQICAgIfAhkiAAAAAlwSFlz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\nIiIiIiIF/x9Qx1K/t+tETgAAAABJRU5ErkJggg==\n",
           "text/plain": "<matplotlib.figure.Figure at 0x7fb38a8131d0>"
          },
          "metadata": {},
          "output_type": "display_data"
         }
        ],
        "source": "wdg.interact(funcio, Ai = sA, b = sB, m = sM, k = sK)"
       },
       "cell_index": 4,
       "root": true
      }
     ]
    },
    "92e208f02d7840c5b0bcdeb4b78bc231": {
     "views": []
    },
    "b953ef0584fe4924bb11385e04bbfbee": {
     "views": []
    },
    "c00395bb21d74f85b05ed5a724899420": {
     "views": []
    },
    "dabfd944f6e54f88b7bda5a5b99107e3": {
     "views": []
    },
    "e3737ccbe1d449559728f3293185d38a": {
     "views": []
    },
    "ec9806ac7c3e42fc9d80a0211072529d": {
     "views": []
    }
   },
   "version": "1.0.0"
  }
 },
 "nbformat": 4,
 "nbformat_minor": 0
}
