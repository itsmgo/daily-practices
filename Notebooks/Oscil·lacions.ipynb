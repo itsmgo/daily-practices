{
 "cells": [
  {
   "cell_type": "markdown",
   "metadata": {},
   "source": [
    "<br>\n",
    "<span style=\"font-family:Cursive;font-variant:small-caps;color:000000;\"> <em>Dia 1</em>:</span>\n",
    "\n",
    "\n",
    "# Oscil·lacions esmorteïdes\n",
    "\n",
    "### Un estudi sobre l'amortiment d'una molla\n",
    "\n",
    "<br>\n",
    "\n",
    "<b> Descripció: </b>Aquest programa representa una oscil·lació esmorteïda en funció del temps d'una forma dinàmica.\n",
    "\n",
    "<b> Input: </b>Paràmetres del fregament, massa, constant de la molla i amplitud inicial. <br>\n",
    "<b> Output: </b>Gràfic de la posició respecte del temps de l'oscil·lació demanada.\n",
    "\n",
    "<b> Problemes: </b> Temps de actualització massa elevat per fer un <em>continuous update</em> de la funció. Si  $\\frac{b}{2mw_0}> 1$ la funció no es representa a causa del problema de l'arrel.\n",
    "\n",
    "<br>\n",
    "\n",
    "<span style=\"font-family:Cursive;font-variant:small-caps;color:000000;\"> Anar a [Dia 2](Nom%20&%20Paraula.ipynb) </span>\n",
    "\n",
    "<br>\n"
   ]
  },
  {
   "cell_type": "code",
   "execution_count": 1,
   "metadata": {
    "collapsed": true
   },
   "outputs": [],
   "source": [
    "import numpy as np\n",
    "import matplotlib.pyplot as plt\n",
    "import ipywidgets as wdg\n",
    "%matplotlib inline"
   ]
  },
  {
   "cell_type": "code",
   "execution_count": 2,
   "metadata": {
    "collapsed": true
   },
   "outputs": [],
   "source": [
    "b = 0.5\n",
    "m = 2\n",
    "Ai = 2\n",
    "k = 50\n",
    "\n",
    "dA = \"Amplitud inicial\"\n",
    "dB = 'Cnt de fregament'\n",
    "dM = 'Massa particula'\n",
    "dK = 'Cnt de la molla'\n",
    "\n",
    "sA = wdg.FloatSlider(value = Ai, min = 0.1, max = 5.0, step = 0.05, description = dA, continuous_update = False)\n",
    "sB = wdg.FloatSlider(value = b, min = 0.01, max = 5.0, step = 0.002, description = dB, continuous_update = False)\n",
    "sM = wdg.FloatSlider(value = m, min = 0.01, max = 5.0, step = 0.002, description = dM, continuous_update = False)\n",
    "sK = wdg.FloatSlider(value = k, min = 1, max = 500.0, step = 1, description = dK, continuous_update = False)"
   ]
  },
  {
   "cell_type": "code",
   "execution_count": 3,
   "metadata": {
    "collapsed": false
   },
   "outputs": [],
   "source": [
    "def funcio(b, m, Ai, k):\n",
    "    \n",
    "    wp = np.sqrt(1-(b/(2*m*(np.sqrt(k/m))))**2)*(np.sqrt(k/m))\n",
    "\n",
    "    t = np.arange(0.0, 50.0, 0.001)\n",
    "    s = Ai*np.exp(-(b/(2*m))*t) * np.cos(wp*t)  \n",
    "    e = Ai*np.exp(-(b/(2*m))*t)+0.2\n",
    "    \n",
    "    plt.plot(t, s, lw = 1.4, color = \"orange\")\n",
    "    plt.plot(t, e, lw = 1.2, color = \"lightblue\", linestyle = \"dashed\")\n",
    "    plt.plot(t, -e, lw = 1.2, color = \"lightblue\", linestyle = \"dashed\")\n",
    "    plt.axis([0, 50, -2.5, 2.5])\n",
    "    \n",
    "    return plt.show()"
   ]
  },
  {
   "cell_type": "code",
   "execution_count": 4,
   "metadata": {
    "collapsed": false,
    "scrolled": false
   },
   "outputs": [
    {
     "data": {
      "image/png": "[encoded data removed]",
      "text/plain": [
       "<matplotlib.figure.Figure at 0x7f1e94a4c250>"
      ]
     },
     "metadata": {},
     "output_type": "display_data"
    }
   ],
   "source": [
    "wdg.interact(funcio, Ai = sA, b = sB, m = sM, k = sK)"
   ]
  }
 ],
 "metadata": {
  "kernelspec": {
   "display_name": "Python 2",
   "language": "python",
   "name": "python2"
  },
  "language_info": {
   "codemirror_mode": {
    "name": "ipython",
    "version": 2
   },
   "file_extension": ".py",
   "mimetype": "text/x-python",
   "name": "python",
   "nbconvert_exporter": "python",
   "pygments_lexer": "ipython2",
   "version": "2.7.6"
  },
  "widgets": {
   "state": {},
   "version": "1.0.0"
  }
 },
 "nbformat": 4,
 "nbformat_minor": 0
}
