{
 "cells": [
  {
   "cell_type": "markdown",
   "metadata": {},
   "source": [
    "<br>\n",
    "<span style=\"font-family:Cursive;font-variant:small-caps;color:000000;\"> <em>Dia 8</em>:</span>\n",
    "\n",
    "\n",
    "# Simulació de particules\n",
    "\n",
    "### Programa que calcula la trajectoria de particules en una caixa\n",
    "\n",
    "<br>\n",
    "\n",
    "<b> Descripció: </b>Aquest programa calcula les posicions i velocitats de particules en una caixa.\n",
    "\n",
    "<b> Input: </b>Instant de temps. <br>\n",
    "<b> Output: </b>Posició de les particules en l'instant de temps entrat.\n",
    "\n",
    "<b> Problemes: </b>\n",
    "<ol>\n",
    "\n",
    "<li> El sistema físic simulat és molt simple i no és interactuable.</li>\n",
    "<li> Actualització lenta del gràfic. </li>\n",
    "<li> No és possible animar un <em>scatter plot</em> o com a mínim no s'ha aconseguit encara. Check <a href:http://stackoverflow.com/questions/14358284/python-how-do-i-animate-my-scatterplot> stackoverflow </a> per més informació</li>\n",
    "\n",
    "<br>\n",
    "<span style=\"font-family:Cursive;font-variant:small-caps;color:000000;\"> Anar a [Dia 7](Estudi d'un text.ipynb) </span>\n",
    "\n",
    "<br>\n",
    "<span style=\"font-family:Cursive;font-variant:small-caps;color:000000;\"> Anar a [Dia 9](Camp electric.ipynb) </span>\n",
    "\n",
    "<br>"
   ]
  },
  {
   "cell_type": "code",
   "execution_count": 1,
   "metadata": {
    "collapsed": true
   },
   "outputs": [],
   "source": [
    "import numpy as np\n",
    "import matplotlib.pyplot as plt\n",
    "import pandas as pd\n",
    "import ipywidgets as wdg\n",
    "\n",
    "%matplotlib inline"
   ]
  },
  {
   "cell_type": "code",
   "execution_count": 2,
   "metadata": {
    "collapsed": true
   },
   "outputs": [],
   "source": [
    "def getComponents(pos, velo, t):\n",
    "    \n",
    "    caixa = [[0,5],[0,5]]\n",
    "    \n",
    "    posicio = pos+np.array(velo)*t\n",
    "    \n",
    "    if posicio[0] > caixa[0][1] or posicio[0] < caixa[0][0]:\n",
    "        velo[0] = -velo[0]\n",
    "    if posicio[1] < caixa[1][0] or posicio[1] > caixa[1][1]:\n",
    "        velo[1] = -velo[1]\n",
    "        \n",
    "    return posicio, velo"
   ]
  },
  {
   "cell_type": "code",
   "execution_count": 9,
   "metadata": {
    "collapsed": false
   },
   "outputs": [],
   "source": [
    "caixa = [[0,5],[0,5]]\n",
    "temps = 10.\n",
    "step = 0.02\n",
    "dataComp = []\n",
    "npart = 12\n",
    "\n",
    "for j in range(npart):\n",
    "    \n",
    "    velocitat = 5*np.array([np.random.rand(), np.random.rand()*(-1)**np.random.randint(0,2)])\n",
    "    posicio = np.array([0,2.5])\n",
    "\n",
    "    colPosX = [posicio[0]]\n",
    "    colPosY = [posicio[1]]\n",
    "    colTemps = [step]\n",
    "    colVeloX = [velocitat[0]]\n",
    "    colVeloY = [velocitat[1]]\n",
    "\n",
    "    for i in range(int(temps/step)):\n",
    "\n",
    "        act = getComponents([colPosX[i], colPosY[i]], [colVeloX[i], colVeloY[i]], step)\n",
    "\n",
    "        colPosX.append(act[0][0])\n",
    "        colVeloX.append(act[1][0])\n",
    "        colPosY.append(act[0][1])\n",
    "        colVeloY.append(act[1][1])\n",
    "        colTemps.append(step*i)\n",
    "    \n",
    "    dataComp.append(pd.DataFrame(data=np.vstack([colPosX, colPosY, colVeloX, colVeloY, colTemps]).T, columns=[\"PosX\", \"PosY\", \"VeloX\", \"VeloY\", \"Temps\"]))"
   ]
  },
  {
   "cell_type": "code",
   "execution_count": 4,
   "metadata": {
    "collapsed": true
   },
   "outputs": [],
   "source": [
    "sFrame = wdg.IntSlider(min=0, max=temps/step, description=\"Imatge\")"
   ]
  },
  {
   "cell_type": "code",
   "execution_count": 5,
   "metadata": {
    "collapsed": false
   },
   "outputs": [],
   "source": [
    "def funcioPlot(frame):\n",
    "    \n",
    "    plt.figure(figsize=(12,8))\n",
    "    axes = plt.gca()\n",
    "\n",
    "    axes.set_ylim(0,5)\n",
    "    axes.set_xlim(0,5)\n",
    "    \n",
    "    for i in range(npart):\n",
    "        dc = dataComp[i]\n",
    "        plt.scatter(dc.PosX[frame:frame+5], dc.PosY[frame:frame+5], color=\"orange\")\n",
    "\n",
    "    plt.show()"
   ]
  },
  {
   "cell_type": "code",
   "execution_count": 10,
   "metadata": {
    "collapsed": false
   },
   "outputs": [
    {
     "data": {
      "image/png": "[encoded data removed]",
      "text/plain": [
       "<matplotlib.figure.Figure at 0x7f1c20911090>"
      ]
     },
     "metadata": {},
     "output_type": "display_data"
    }
   ],
   "source": [
    "wdg.interactive(funcioPlot, frame = sFrame)"
   ]
  }
 ],
 "metadata": {
  "kernelspec": {
   "display_name": "Python 2",
   "language": "python",
   "name": "python2"
  },
  "language_info": {
   "codemirror_mode": {
    "name": "ipython",
    "version": 2
   },
   "file_extension": ".py",
   "mimetype": "text/x-python",
   "name": "python",
   "nbconvert_exporter": "python",
   "pygments_lexer": "ipython2",
   "version": "2.7.6"
  },
  "widgets": {
   "state": {},
   "version": "1.0.0"
  }
 },
 "nbformat": 4,
 "nbformat_minor": 0
}
