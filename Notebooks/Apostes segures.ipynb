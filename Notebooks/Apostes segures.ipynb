{
 "cells": [
  {
   "cell_type": "markdown",
   "metadata": {},
   "source": [
    "<br>\n",
    "<span style=\"font-family:Cursive;font-variant:small-caps;color:000000;\"> <em>Dia 4</em>:</span>\n",
    "\n",
    "\n",
    "# Apostes segures\n",
    "\n",
    "### Administrador de diners que et garantitza un guany\n",
    "\n",
    "<br>\n",
    "\n",
    "<b> Descripció: </b>Donats uns diners i dues cases d'apostes, aquest programa busca la combinació que et garantitza un guany.\n",
    "\n",
    "<b> Input: </b>Diners inicials, matrius d'aposta. <br>\n",
    "<b> Output: </b>Organització dels diners i guanys.\n",
    "\n",
    "<b> Problemes: </b>Programa limitat a dues cases d'apostes i dos resultats possibles. A la realitat no et dona el benefici esperat. Falta implementar <em>comisions</em>. Falta un estudi més complert que amb un dia no es pot fer.\n",
    "\n",
    "<br>\n",
    "<span style=\"font-family:Cursive;font-variant:small-caps;color:000000;\"> Anar a [Dia 3](Fractal triangular.ipynb) </span>\n",
    "\n",
    "<br>\n",
    "<span style=\"font-family:Cursive;font-variant:small-caps;color:000000;\"> Anar a [Dia 5](Lector de webs.ipynb) </span>\n",
    "\n",
    "<br>"
   ]
  },
  {
   "cell_type": "code",
   "execution_count": 1,
   "metadata": {
    "collapsed": true
   },
   "outputs": [],
   "source": [
    "import numpy as np\n",
    "import pandas as pd\n",
    "from IPython.display import display, HTML\n",
    "import ipywidgets as wdg"
   ]
  },
  {
   "cell_type": "code",
   "execution_count": 2,
   "metadata": {
    "collapsed": false
   },
   "outputs": [],
   "source": [
    "def invertir(v):\n",
    "    invert = np.matrix([[0,1],[1,0]])\n",
    "    \n",
    "    return np.array(v*invert).flatten()\n",
    "\n",
    "def guany(c, a, pot):\n",
    "    guanys = []\n",
    "    gu = []\n",
    "    \n",
    "    for i in range(len(c)):\n",
    "\n",
    "        g = np.linalg.norm(c[i]*a[i])\n",
    "        \n",
    "        gu.append(g-pot)\n",
    "    \n",
    "    guanys.append(gu)\n",
    "    \n",
    "    return np.array(guanys)"
   ]
  },
  {
   "cell_type": "code",
   "execution_count": 3,
   "metadata": {
    "collapsed": false
   },
   "outputs": [],
   "source": [
    "C1 = wdg.BoundedFloatText(value = 1.5, min = 1, max = 10.0, description = \" \", continuous_update = True)\n",
    "C2 = wdg.BoundedFloatText(value = 3.0, min = 1, max = 10.0, description = \" \", continuous_update = True)\n",
    "C3 = wdg.BoundedFloatText(value = 1.1, min = 1, max = 10.0, description = \" \", continuous_update = True)\n",
    "C4 = wdg.BoundedFloatText(value = 3.5, min = 1, max = 10.0, description = \" \", continuous_update = True)\n",
    "\n",
    "Caixa1 = wdg.HBox(children=[C1, C2])\n",
    "Caixa2 = wdg.HBox(children=[C3, C4])\n",
    "\n",
    "P =  wdg.IntSlider(value = 1.5, min = 1, max = 1000.0, description = \"Diners Totals\", continuous_update = True)\n",
    "Caixa3 = wdg.HBox(children=[P])"
   ]
  },
  {
   "cell_type": "code",
   "execution_count": 4,
   "metadata": {
    "collapsed": false
   },
   "outputs": [],
   "source": [
    "def funcio(c1,c2,c3,c4,p):   \n",
    "    pot = p\n",
    "    resolucio = 1\n",
    "    inv = False\n",
    "\n",
    "    cases = np.array([[c1 , c2],\n",
    "                      [c3 , c4]])\n",
    "\n",
    "    apostes = np.array([[0 , 0],\n",
    "                        [0 , 0]])\n",
    "\n",
    "    condicions = []\n",
    "\n",
    "    for i in range(len(cases)):\n",
    "        condicions.append((cases[0][i]-1)*(invertir(cases[1])[i]-1))\n",
    "\n",
    "    if condicions[0] > condicions[1]:\n",
    "        inv = True\n",
    "    else:\n",
    "        inv = False\n",
    "\n",
    "\n",
    "    guanyPossible = []\n",
    "\n",
    "    for i in range(int(pot/resolucio)):\n",
    "        if inv:\n",
    "            apostes[0][0] = pot-(i*resolucio)\n",
    "            apostes[1][1] = i*resolucio\n",
    "        else:\n",
    "            apostes[0][1] = pot-(i*resolucio)\n",
    "            apostes[1][0] = i*resolucio\n",
    "\n",
    "        guanyPossible.append([guany(cases, apostes, pot).flatten(), [[apostes[0][0], apostes[0][1]],\n",
    "                                                                    [apostes[1][0], apostes[1][1]]]])\n",
    "\n",
    "\n",
    "    guanyMin = []\n",
    "\n",
    "    for i in range(len(guanyPossible)):\n",
    "        guanyMin.append([min(guanyPossible[i][0][0], guanyPossible[i][0][1]), guanyPossible[i][1]])\n",
    "\n",
    "\n",
    "\n",
    "    guanyMax = 0\n",
    "\n",
    "    guanyMax = max(guanyMin)\n",
    "\n",
    "    matriuAposta = guanyMax[1]\n",
    "    \n",
    "    textf = [\"Guany  minim\", \"Perdua  minima\"]\n",
    "    selector = 0\n",
    "    \n",
    "    if guanyMax[0] > 0:\n",
    "        selector = 0\n",
    "    else:\n",
    "        selector = 1\n",
    "    display(\"{} = {}\".format(textf[selector], round(guanyMax[0],3)))\n",
    "    display(pd.DataFrame(matriuAposta, index = [\"Casa 1\", \"Casa 2\"], columns = [\"Opcio 1\", \"Opcio 2\"]))\n",
    "    "
   ]
  },
  {
   "cell_type": "code",
   "execution_count": 5,
   "metadata": {
    "collapsed": false
   },
   "outputs": [
    {
     "data": {
      "text/plain": [
       "'Perdua  minima = -9.7'"
      ]
     },
     "metadata": {},
     "output_type": "display_data"
    },
    {
     "data": {
      "text/html": [
       "<div style=\"max-height:1000px;max-width:1500px;overflow:auto;\">\n",
       "<table border=\"1\" class=\"dataframe\">\n",
       "  <thead>\n",
       "    <tr style=\"text-align: right;\">\n",
       "      <th></th>\n",
       "      <th>Opcio 1</th>\n",
       "      <th>Opcio 2</th>\n",
       "    </tr>\n",
       "  </thead>\n",
       "  <tbody>\n",
       "    <tr>\n",
       "      <th>Casa 1</th>\n",
       "      <td>   0</td>\n",
       "      <td> 49</td>\n",
       "    </tr>\n",
       "    <tr>\n",
       "      <th>Casa 2</th>\n",
       "      <td> 131</td>\n",
       "      <td>  0</td>\n",
       "    </tr>\n",
       "  </tbody>\n",
       "</table>\n",
       "<p>2 rows × 2 columns</p>\n",
       "</div>"
      ],
      "text/plain": [
       "        Opcio 1  Opcio 2\n",
       "Casa 1        0       49\n",
       "Casa 2      131        0\n",
       "\n",
       "[2 rows x 2 columns]"
      ]
     },
     "metadata": {},
     "output_type": "display_data"
    }
   ],
   "source": [
    "w = wdg.interactive(funcio, c1 = C1, c2 = C2, c3 = C3, c4 = C4, p = P)\n",
    "\n",
    "display(Caixa1, Caixa2, Caixa3, w.result)"
   ]
  }
 ],
 "metadata": {
  "kernelspec": {
   "display_name": "Python 2",
   "language": "python",
   "name": "python2"
  },
  "language_info": {
   "codemirror_mode": {
    "name": "ipython",
    "version": 2
   },
   "file_extension": ".py",
   "mimetype": "text/x-python",
   "name": "python",
   "nbconvert_exporter": "python",
   "pygments_lexer": "ipython2",
   "version": "2.7.6"
  },
  "widgets": {
   "state": {
    "01e3be42f23a4d509419785ed109cc07": {
     "views": []
    },
    "1505cb05ac584e45b4f0e338990981d4": {
     "views": []
    },
    "2c35b21b9f9f4f3aae00c04b4bbd309c": {
     "views": []
    },
    "5154bb478f1a4a2e8ae5a84a84a0b609": {
     "views": []
    },
    "61467829f354426a9a6faedadda77957": {
     "views": []
    },
    "6addd1847df24d3aa4a0a4bf5975b024": {
     "views": []
    },
    "70bf40dcc0994ea6805680a201ca38dd": {
     "views": []
    },
    "7b908498eb494d46b0cc44150304dca0": {
     "views": [
      {
       "cell": {
        "cell_type": "code",
        "execution_count": 5,
        "metadata": {
         "collapsed": false,
         "trusted": true
        },
        "outputs": [
         {
          "data": {
           "text/plain": "'Perdua  minima = -9.7'"
          },
          "metadata": {},
          "output_type": "display_data"
         },
         {
          "data": {
           "text/html": "<div style=\"max-height:1000px;max-width:1500px;overflow:auto;\">\n<table border=\"1\" class=\"dataframe\">\n  <thead>\n    <tr style=\"text-align: right;\">\n      <th></th>\n      <th>Opcio 1</th>\n      <th>Opcio 2</th>\n    </tr>\n  </thead>\n  <tbody>\n    <tr>\n      <th>Casa 1</th>\n      <td>   0</td>\n      <td> 49</td>\n    </tr>\n    <tr>\n      <th>Casa 2</th>\n      <td> 131</td>\n      <td>  0</td>\n    </tr>\n  </tbody>\n</table>\n<p>2 rows × 2 columns</p>\n</div>",
           "text/plain": "        Opcio 1  Opcio 2\nCasa 1        0       49\nCasa 2      131        0\n\n[2 rows x 2 columns]"
          },
          "metadata": {},
          "output_type": "display_data"
         }
        ],
        "source": "w = wdg.interactive(funcio, c1 = C1, c2 = C2, c3 = C3, c4 = C4, p = P)\n\ndisplay(Caixa1, Caixa2, Caixa3, w.result)"
       },
       "cell_index": 5,
       "root": true
      }
     ]
    },
    "7dda1dec0a714a2a9baeab73c991735a": {
     "views": []
    },
    "87b9499451e74874899b59de6085df6b": {
     "views": []
    },
    "97b230c4a24b435f83c80fa3e6cb2c7f": {
     "views": [
      {
       "cell": {
        "cell_type": "code",
        "execution_count": 5,
        "metadata": {
         "collapsed": false,
         "trusted": true
        },
        "outputs": [
         {
          "data": {
           "text/plain": "'Perdua  minima = -9.7'"
          },
          "metadata": {},
          "output_type": "display_data"
         },
         {
          "data": {
           "text/html": "<div style=\"max-height:1000px;max-width:1500px;overflow:auto;\">\n<table border=\"1\" class=\"dataframe\">\n  <thead>\n    <tr style=\"text-align: right;\">\n      <th></th>\n      <th>Opcio 1</th>\n      <th>Opcio 2</th>\n    </tr>\n  </thead>\n  <tbody>\n    <tr>\n      <th>Casa 1</th>\n      <td>   0</td>\n      <td> 49</td>\n    </tr>\n    <tr>\n      <th>Casa 2</th>\n      <td> 131</td>\n      <td>  0</td>\n    </tr>\n  </tbody>\n</table>\n<p>2 rows × 2 columns</p>\n</div>",
           "text/plain": "        Opcio 1  Opcio 2\nCasa 1        0       49\nCasa 2      131        0\n\n[2 rows x 2 columns]"
          },
          "metadata": {},
          "output_type": "display_data"
         }
        ],
        "source": "w = wdg.interactive(funcio, c1 = C1, c2 = C2, c3 = C3, c4 = C4, p = P)\n\ndisplay(Caixa1, Caixa2, Caixa3, w.result)"
       },
       "cell_index": 5,
       "root": true
      }
     ]
    },
    "9ebe8a72ec4c4bdab9820de714dc458c": {
     "views": []
    },
    "c21185a6936e493f8064b98bde49fb8e": {
     "views": []
    },
    "d15d52594eb64eb4ac4fdea3c1c7a0d6": {
     "views": []
    },
    "d8a7df0cde25411bbc406b8105026e52": {
     "views": []
    },
    "f2c35eb356ed4826a83f6986b46f2bfc": {
     "views": []
    },
    "f3652cbd6c67428297188b7c02565530": {
     "views": []
    },
    "f47fdd23ceb64dfd9c4564f8588e1de4": {
     "views": [
      {
       "cell": {
        "cell_type": "code",
        "execution_count": 5,
        "metadata": {
         "collapsed": false,
         "trusted": true
        },
        "outputs": [
         {
          "data": {
           "text/plain": "'Perdua  minima = -9.7'"
          },
          "metadata": {},
          "output_type": "display_data"
         },
         {
          "data": {
           "text/html": "<div style=\"max-height:1000px;max-width:1500px;overflow:auto;\">\n<table border=\"1\" class=\"dataframe\">\n  <thead>\n    <tr style=\"text-align: right;\">\n      <th></th>\n      <th>Opcio 1</th>\n      <th>Opcio 2</th>\n    </tr>\n  </thead>\n  <tbody>\n    <tr>\n      <th>Casa 1</th>\n      <td>   0</td>\n      <td> 49</td>\n    </tr>\n    <tr>\n      <th>Casa 2</th>\n      <td> 131</td>\n      <td>  0</td>\n    </tr>\n  </tbody>\n</table>\n<p>2 rows × 2 columns</p>\n</div>",
           "text/plain": "        Opcio 1  Opcio 2\nCasa 1        0       49\nCasa 2      131        0\n\n[2 rows x 2 columns]"
          },
          "metadata": {},
          "output_type": "display_data"
         }
        ],
        "source": "w = wdg.interactive(funcio, c1 = C1, c2 = C2, c3 = C3, c4 = C4, p = P)\n\ndisplay(Caixa1, Caixa2, Caixa3, w.result)"
       },
       "cell_index": 5,
       "root": true
      }
     ]
    }
   },
   "version": "1.0.0"
  }
 },
 "nbformat": 4,
 "nbformat_minor": 0
}
