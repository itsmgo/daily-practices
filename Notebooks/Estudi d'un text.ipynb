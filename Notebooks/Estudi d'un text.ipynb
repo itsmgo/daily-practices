{
 "cells": [
  {
   "cell_type": "markdown",
   "metadata": {},
   "source": [
    "<br>\n",
    "<span style=\"font-family:Cursive;font-variant:small-caps;color:000000;\"> <em>Dia 7</em>:</span>\n",
    "\n",
    "\n",
    "# Estudi d'un text\n",
    "\n",
    "### Programa que representa la llargada de les frases d'un text\n",
    "\n",
    "<br>\n",
    "\n",
    "<b> Descripció: </b>Aquest programa representa un gràfic amb la llargada de les frases d'un text.\n",
    "\n",
    "<b> Input: </b>Text. <br>\n",
    "<b> Output: </b>Gràfic i dades sobre la distribució.\n",
    "\n",
    "<b> Problemes: </b>\n",
    "<ol>\n",
    "\n",
    "<li>La funcio d'entrada només permet canviar els coeficients {$c_{1}, c_{2}, c_{3}, c_{4}$} de la funció polinòmica:  \n",
    "<br>\n",
    "$$f(x) = c_{1}x^3 + c_{2}x^2 + c_{3}x + c_{4}$$</li>\n",
    "<br>\n",
    "<li> Cal implementar més funcions i millorar el mètode d'entrada de coeficients. </li>\n",
    "<li> Actualització lenta del gràfic. </li>\n",
    "<li> Eix $y$ o $f(x)$ del gràfic centrat nomes en $\\mathbb{R} > 0$. Cal reprogramar per emmarcar tot $\\mathbb{R}$.</li>\n",
    "<li> Widgets situats massa verticalment, impedeixen visió completa del gràfic. Cal resituar-los intel·ligentment</li>\n",
    "\n",
    "<br>\n",
    "<span style=\"font-family:Cursive;font-variant:small-caps;color:000000;\"> Anar a [Dia 6](Calculadora d'integrals.ipynb) </span>\n",
    "\n",
    "<br>\n",
    "<span style=\"font-family:Cursive;font-variant:small-caps;color:000000;\"> Anar a [Dia 8](Estudi d'un text.ipynb) </span>\n",
    "\n",
    "<br>"
   ]
  },
  {
   "cell_type": "code",
   "execution_count": 1,
   "metadata": {
    "collapsed": false
   },
   "outputs": [],
   "source": [
    "import matplotlib.pyplot as plt\n",
    "import numpy as np\n",
    "import ipywidgets as wdg\n",
    "from unidecode import unidecode\n",
    "import pandas as pd\n",
    "\n",
    "%matplotlib inline"
   ]
  },
  {
   "cell_type": "code",
   "execution_count": 2,
   "metadata": {
    "collapsed": false
   },
   "outputs": [],
   "source": [
    "sText = wdg.Textarea(description = \"Text:\", value = \"Inserta text. Aqui no hi ha limit\")\n",
    "sBarres = wdg.IntSlider(min=1, max = 40, value=10, description=\"Bins\")\n",
    "sNum = wdg.IntSlider(min=0, max = 100, value=1, description=\"Frase\")"
   ]
  },
  {
   "cell_type": "code",
   "execution_count": 3,
   "metadata": {
    "collapsed": false
   },
   "outputs": [],
   "source": [
    "def funcio(text, barres, num):\n",
    "\n",
    "    frases = text.split(\".\")\n",
    "\n",
    "    llargada = []\n",
    "\n",
    "\n",
    "    for i in range(len(frases)):\n",
    "\n",
    "        ll = len(frases[i].split())\n",
    "\n",
    "        if ll > 0:\n",
    "            llargada.append(ll)\n",
    "    \n",
    "    if len(llargada) > 0:\n",
    "        Xmax = max(llargada)\n",
    "    else:\n",
    "        Xmax = 1\n",
    "    \n",
    "    pndas = pd.Series(llargada)\n",
    "    pdd = pndas.describe()\n",
    "    bi = np.linspace(0, Xmax, barres)\n",
    "    \n",
    "    plt.figure(figsize = (12, 8))\n",
    "    axes = plt.gca()\n",
    "    axes.set_xlim(-5, Xmax+5)\n",
    "    \n",
    "    counts, edges, patches = plt.hist(llargada, bins = bi, color = \"orange\", lw = 0.5)\n",
    "    patches[0].set_snap(True)\n",
    "    \n",
    "    \n",
    "    \n",
    "    yl = axes.get_ylim()[1]\n",
    "    \n",
    "    plt.text(Xmax-Xmax*.1, yl-yl*.05, \"Promig frase = {} paraules/frase\".format(round(pdd[1], 3)), horizontalalignment='center')\n",
    "    plt.text(Xmax-Xmax*.1, yl-yl*.1, \"Text complet = {} frases\".format(round(pdd[0], 3)), horizontalalignment='center')\n",
    "    plt.text(Xmax-Xmax*.1, yl-yl*.15, \"Frase mes llarga = {} paraules\".format(round(pdd[7], 3)), horizontalalignment='center')\n",
    "    plt.text(Xmax-Xmax*.1, yl-yl*.2, \"Desviacio estandard = {}\".format(round(pdd[2], 3)), horizontalalignment='center')\n",
    "    \n",
    "    plt.show()\n",
    "    \n",
    "    return str(unidecode(frases[num]) + \".\")"
   ]
  },
  {
   "cell_type": "code",
   "execution_count": 4,
   "metadata": {
    "collapsed": false
   },
   "outputs": [
    {
     "data": {
      "image/png": "[encoded data removed]",
      "text/plain": [
       "<matplotlib.figure.Figure at 0x7faaebb32f10>"
      ]
     },
     "metadata": {},
     "output_type": "display_data"
    },
    {
     "data": {
      "text/plain": [
       "\" Dos policies afganesos la van enfilar a la teulada d'un porxo no gaire alt, elevant-la damunt de la gentada.\""
      ]
     },
     "metadata": {},
     "output_type": "display_data"
    }
   ],
   "source": [
    "wdg.interactive(funcio, text = sText, barres = sBarres, num = sNum)"
   ]
  }
 ],
 "metadata": {
  "kernelspec": {
   "display_name": "Python 2",
   "language": "python",
   "name": "python2"
  },
  "language_info": {
   "codemirror_mode": {
    "name": "ipython",
    "version": 2
   },
   "file_extension": ".py",
   "mimetype": "text/x-python",
   "name": "python",
   "nbconvert_exporter": "python",
   "pygments_lexer": "ipython2",
   "version": "2.7.6"
  },
  "widgets": {
   "state": {
    "015811e073d24678be14d233b685e322": {
     "views": []
    },
    "04e23a7fae90459ea70ccd43d76ac2ed": {
     "views": []
    },
    "1100e4e67bce4435af904da129f2ef93": {
     "views": []
    },
    "12d5f660c36349238bc15e75443f626c": {
     "views": []
    },
    "141ec9a2369c46feb4d9361736a4ff8b": {
     "views": []
    },
    "18f57baf570540c59dd15d697a462bfb": {
     "views": []
    },
    "1cb45c60445a474e9f8bed4f700bd4de": {
     "views": []
    },
    "21b6978ac3db46eeba1dfe2463035bd5": {
     "views": []
    },
    "2bdf513ab471485ea1b55421ee530a09": {
     "views": []
    },
    "2f18653b2b7043b2adabd0fd0260e562": {
     "views": []
    },
    "3386c8dc3faf41b59518cf55dab08d6b": {
     "views": []
    },
    "346509774a6b45c8b0ceec5c20e278d6": {
     "views": []
    },
    "34821eb38a3a490abec28f4a5c2bad0d": {
     "views": []
    },
    "34f8efebe8454b3ea4c34665573cddcc": {
     "views": []
    },
    "37e011050bf64e048715910fedcad466": {
     "views": []
    },
    "3a3d01c3fb45400ab18854e1b6c58fc1": {
     "views": []
    },
    "3c14cdd43ee5410e85f75dba39a9c5a6": {
     "views": []
    },
    "3cf9e48f33f14edcaf3cc67241d0f035": {
     "views": []
    },
    "424d6e318d7242fb878b6f8d537bdb2d": {
     "views": []
    },
    "439e5081e94f41408cc4fbee4a25ea66": {
     "views": []
    },
    "48e14c739d4b41808f3dbcb109379e13": {
     "views": []
    },
    "49b5bbddc6f54ef8a23f45063c3ebb19": {
     "views": []
    },
    "4d02d472c14d46b8a093cf4125f361f1": {
     "views": []
    },
    "4d99260105bd44e8ab6492a5441409c3": {
     "views": []
    },
    "50720b42981f4eb799ca3521f2aa48d6": {
     "views": []
    },
    "55de95a1a201496cbf2faedf619c6ece": {
     "views": []
    },
    "55eb023d27f5475eaa09f622a31160c3": {
     "views": []
    },
    "576b9a18b6f841ca99971f4f677a0def": {
     "views": []
    },
    "5e9a9f9f79c24e84afe53ebb26fd7b12": {
     "views": []
    },
    "62434e8e0cc84914a19b84e2c74cc8d6": {
     "views": []
    },
    "6b0b9dfa1ac3466e9e83dd5c02f45f70": {
     "views": []
    },
    "6b1ba1f8976c4a3d95580d2e8d80c68a": {
     "views": []
    },
    "6c9446d97fb04c8a9e66532271098bf2": {
     "views": []
    },
    "6e4a5fc7e04e42eeb157ef476264d2f4": {
     "views": []
    },
    "7237bdd1522b47a288a38ec9aea6f0f8": {
     "views": []
    },
    "73458594193849efaf6053fd01b02913": {
     "views": []
    },
    "736f530abd3c458ab376dc642870453d": {
     "views": []
    },
    "77c8f2af4fc64897a898abaecee37b6c": {
     "views": []
    },
    "78e987a097db4b42b7f6302a43e7ebba": {
     "views": []
    },
    "7aff8ae28ee246b69cabfb7c0f7176d3": {
     "views": []
    },
    "7c90de1d69b841098b5548e576c9380b": {
     "views": []
    },
    "7e0a8bf0b5f34f488ac68087a7356f60": {
     "views": []
    },
    "7facea7f9e3548518ef61e61dc370e45": {
     "views": []
    },
    "80ee4b7e12f341c3a59b7059649a1c49": {
     "views": []
    },
    "84e46b185e914d8ea2c78b60e9359f5b": {
     "views": []
    },
    "84fd0678b957451981227792fa455fb5": {
     "views": []
    },
    "86765773ee1649408b7930d804dcbd70": {
     "views": []
    },
    "86c389804eec4ef78e4a58d5b770b31d": {
     "views": []
    },
    "8a2253809abe415b88df9d9c29b13bd8": {
     "views": []
    },
    "8ab8d015c57c4536b31a4995ae839ee5": {
     "views": []
    },
    "8eab256ceec64ba79b445b7a1a5d4d6a": {
     "views": []
    },
    "8eacff0f5edb4e4a85409019894f65aa": {
     "views": []
    },
    "8f02b93c3f3145098c0f6a51bc7a2e90": {
     "views": []
    },
    "959300ee56e34936ab2779bec556f41e": {
     "views": []
    },
    "96aa3df6ba1b468595a90cc63376ebca": {
     "views": []
    },
    "97509d4a4e2b4865b906c7a7f64ff538": {
     "views": []
    },
    "987ff7a07429403c8e0a66a22cac4db0": {
     "views": []
    },
    "9c2d576539e1480488b0904d3057638a": {
     "views": []
    },
    "9d6f6810e83f49ae915b1fc34cc4263f": {
     "views": []
    },
    "a0fa0ad2227b4b5f96c44df47e58b8a0": {
     "views": []
    },
    "a10ed8b0c6774865a53f0581de73aacd": {
     "views": []
    },
    "a3f723bcb52d4304973fddfab9bf80dc": {
     "views": []
    },
    "a509bb9b88d8471587997741e80b41f0": {
     "views": []
    },
    "a762472f837e41a69788c90436c49702": {
     "views": []
    },
    "a9ee1567a0a945969cb9e1d40c7b20a5": {
     "views": []
    },
    "aa4215badd0b4279922caeb5c883843e": {
     "views": []
    },
    "aa874f81e9794b4eb9b0ee6fbbef2c4f": {
     "views": []
    },
    "aff6dfcf21284f8ba40c916ed38a1e5b": {
     "views": []
    },
    "b1c20294b01b49acb7eb051d674a78bb": {
     "views": []
    },
    "b5224450402244ce9c14647c1b09e761": {
     "views": []
    },
    "b9f2ca3f72674e14b678430900e3f6be": {
     "views": []
    },
    "ba0ce07384ad43e68987d67b138d5aa4": {
     "views": []
    },
    "ba73dda355ae4830b7c5cd3441cd7ad0": {
     "views": []
    },
    "bc3a97c55fcf4f92bb2b1b58a0d83042": {
     "views": []
    },
    "c0c33f7f91914a2e9202ee79113c3c1d": {
     "views": []
    },
    "c1f41959d7694a99b890bf6c9bf8036d": {
     "views": []
    },
    "c209a629c6974c4fa9bb3c98c7bf99a7": {
     "views": []
    },
    "c32be62916d24edb9aa61244dd89500a": {
     "views": []
    },
    "c597e52d7d814c4bb5d85feb2f4cec3d": {
     "views": []
    },
    "cb8efc5b19b842cfa7cfa7ea2a49288b": {
     "views": []
    },
    "cc8c9b140ad342848ffb90d0d9266e7f": {
     "views": [
      {
       "cell": {
        "cell_type": "code",
        "execution_count": 4,
        "metadata": {
         "collapsed": false,
         "trusted": true
        },
        "outputs": [
         {
          "data": {
           "image/png": "iVBORw0KGgoAAAANSUhEUgAAArsAAAHfCAYAAABQ7hBTAAAABHNCSVQICAgIfAhkiAAAAAlwSFlz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\nAAAAAAAAAAAA4CMXOefJ9rW9O7gAAAAASUVORK5CYII=\n",
           "text/plain": "<matplotlib.figure.Figure at 0x7faaebb32f10>"
          },
          "metadata": {},
          "output_type": "display_data"
         },
         {
          "data": {
           "text/plain": "\" Dos policies afganesos la van enfilar a la teulada d'un porxo no gaire alt, elevant-la damunt de la gentada.\""
          },
          "metadata": {},
          "output_type": "display_data"
         }
        ],
        "source": "wdg.interactive(funcio, text = sText, barres = sBarres, num = sNum)"
       },
       "cell_index": 4,
       "root": true
      }
     ]
    },
    "cdcbf15be73e4769a8b5a2adf3b8a020": {
     "views": []
    },
    "d1df282b469a45e2af631a2f8c151ee0": {
     "views": []
    },
    "d36c1f8c9d1b4fbd878e35afd6de4f12": {
     "views": []
    },
    "d59d3f5b29ed4ddf977377d297b75010": {
     "views": []
    },
    "d7e2790dd18748a1b6dbf5d872be865e": {
     "views": []
    },
    "d9d31fa8855e4c2285c68bd8371f730b": {
     "views": []
    },
    "e4fced6ff0be4a10b6d67614644e8630": {
     "views": []
    },
    "e565aa07da244b82b8b80ea0f6a2463b": {
     "views": []
    },
    "e836bf44fb6342829aa8ab34f91f92b4": {
     "views": []
    },
    "ebbe33a5693e4d9e9a3f81068b7c7e06": {
     "views": []
    },
    "ecbd07038eb64205bf8289dc4d75d0ec": {
     "views": []
    },
    "edabf99504e647baa1f2e4b503b5e821": {
     "views": []
    },
    "edba8fe67d3a4b64bc9f9c428c47c20d": {
     "views": []
    },
    "efa9714457eb4d6fada57fa9cdaa5e45": {
     "views": []
    },
    "f119bbcc5b7d490c907c3c536e472e4e": {
     "views": []
    },
    "f1364aa258754e989477ddba5f33fa6b": {
     "views": []
    },
    "f6cc221f58434f02b28a9c7c0b6cf707": {
     "views": []
    },
    "f9ed6aa84cc44514af4b43b568249f76": {
     "views": []
    },
    "fa1448f7ef3c430fb94e66348cb53087": {
     "views": []
    }
   },
   "version": "1.0.0"
  }
 },
 "nbformat": 4,
 "nbformat_minor": 0
}
