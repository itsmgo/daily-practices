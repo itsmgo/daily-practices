{
 "cells": [
  {
   "cell_type": "markdown",
   "metadata": {},
   "source": [
    "<br>\n",
    "<span style=\"font-family:Cursive;font-variant:small-caps;color:000000;\"> <em>Dia 5</em>:</span>\n",
    "\n",
    "\n",
    "# Lector de webs\n",
    "\n",
    "### Programa que obté les apostes de les diferents cases d'aposta\n",
    "\n",
    "<br>\n",
    "\n",
    "<b> Descripció: </b>Aquest programa analitza el codi HTML de les pàgines webs i n'obté dades.\n",
    "\n",
    "<b> Input: </b>URL. <br>\n",
    "<b> Output: </b>Emparallements i quotes.\n",
    "\n",
    "<b> Problemes: </b> <em> MOLTS </em>. Codi HTML diferent per cada pagina web, n'hi ha que no es pot obtenir tan fàcilment. No és 100% eficaç.\n",
    "\n",
    "<br>\n",
    "<span style=\"font-family:Cursive;font-variant:small-caps;color:000000;\"> Anar a [Dia 4](Apostes segures.ipynb) </span>\n",
    "\n",
    "<br>\n",
    "<span style=\"font-family:Cursive;font-variant:small-caps;color:000000;\"> Anar a [Dia 6](Calculadora d'integrals.ipynb) </span>\n",
    "\n",
    "<br>"
   ]
  },
  {
   "cell_type": "code",
   "execution_count": 6,
   "metadata": {
    "collapsed": false
   },
   "outputs": [],
   "source": [
    "import numpy as np\n",
    "from BeautifulSoup import BeautifulSoup\n",
    "from urllib import urlopen"
   ]
  },
  {
   "cell_type": "code",
   "execution_count": 3,
   "metadata": {
    "collapsed": false
   },
   "outputs": [],
   "source": [
    "def getSopa(url):\n",
    "    page = urlopen(url2).read()\n",
    "    page = str(page)\n",
    "    return BeautifulSoup(page)\n",
    "    \n",
    "def getApostes(sopa, casa):  \n",
    "    \n",
    "    if casa == \"sportium\":\n",
    "        \n",
    "        spansP = sopa.findAll(\"span\", \"price dec\")\n",
    "        spansN = sopa.findAll(\"span\", \"seln-name\")\n",
    "        spans = []\n",
    "\n",
    "        for i in range(len(spansP)):\n",
    "\n",
    "            spans.append([spansN[i], spansP[i]])\n",
    "\n",
    "        aposta = []\n",
    "\n",
    "        for i in range(len(spans)):\n",
    "            for j in range(2):\n",
    "                if j == 0:\n",
    "                    nom = str(spans[i][j].getText())\n",
    "                else:\n",
    "                    taxa = float(spans[i][j].getText())\n",
    "            aposta.append([nom, taxa])\n",
    "        return aposta\n",
    "    \n",
    "    if casa == \"bwin\":\n",
    "        \n",
    "        spansP = sopa.findAll(\"span\", \"odds\")\n",
    "        spansN = sopa.findAll(\"span\", \"option-name\")\n",
    "        spans = []\n",
    "\n",
    "        for i in range(len(spansP)):\n",
    "\n",
    "            spans.append([spansN[i], spansP[i]])\n",
    "\n",
    "        aposta = []\n",
    "\n",
    "        for i in range(len(spans)):\n",
    "            for j in range(2):\n",
    "                if j == 0:\n",
    "                    nom = str(spans[i][j].getText())\n",
    "                else:\n",
    "                    taxa = float(spans[i][j].getText())\n",
    "            aposta.append([nom, taxa])\n",
    "        return aposta\n",
    "    \n",
    "    \n",
    "def getEmparallements(sopa, num):\n",
    "    \n",
    "    trs = sopa.findAll(\"tr\")\n",
    "\n",
    "    noms = []\n",
    "\n",
    "    for tr in trs:\n",
    "        if len(tr.findAll(\"span\", \"seln-name\")) > 0:\n",
    "            noms.append(tr.findAll(\"span\", \"seln-name\"))\n",
    "        else:\n",
    "            noms.append(tr.findAll(\"span\", \"option-name\"))\n",
    "\n",
    "    emparallements = []\n",
    "\n",
    "    for parella in noms:\n",
    "        nomP = []\n",
    "        if len(parella) == num:\n",
    "            for i in range(num):\n",
    "                nomP.append(str(parella[i].getText()))\n",
    "\n",
    "            emparallements.append(nomP)\n",
    "            \n",
    "    return emparallements"
   ]
  },
  {
   "cell_type": "code",
   "execution_count": 4,
   "metadata": {
    "collapsed": false
   },
   "outputs": [
    {
     "data": {
      "text/plain": [
       "[]"
      ]
     },
     "execution_count": 4,
     "metadata": {},
     "output_type": "execute_result"
    }
   ],
   "source": [
    "url = \"http://sports.sportium.es/es/tennis\"\n",
    "url2 = \"https://sports.bwin.es/en/sports#eventId=&leagueIds=3649&page=0&sportId=5\"\n",
    "\n",
    "sopa = getSopa(url)\n",
    "getEmparallements(sopa, 2)"
   ]
  }
 ],
 "metadata": {
  "kernelspec": {
   "display_name": "Python 2",
   "language": "python",
   "name": "python2"
  },
  "language_info": {
   "codemirror_mode": {
    "name": "ipython",
    "version": 2
   },
   "file_extension": ".py",
   "mimetype": "text/x-python",
   "name": "python",
   "nbconvert_exporter": "python",
   "pygments_lexer": "ipython2",
   "version": "2.7.6"
  },
  "widgets": {
   "state": {},
   "version": "1.0.0"
  }
 },
 "nbformat": 4,
 "nbformat_minor": 0
}
